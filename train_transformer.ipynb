{
 "cells": [
  {
   "metadata": {
    "ExecuteTime": {
     "end_time": "2025-10-16T18:23:43.808651Z",
     "start_time": "2025-10-16T18:23:40.999332Z"
    }
   },
   "cell_type": "code",
   "source": [
    "import pandas as pd\n",
    "import torch\n",
    "from torch.utils.data import DataLoader\n",
    "from torch.optim import AdamW\n",
    "from transformers import AutoTokenizer, AutoModelForSequenceClassification, logging\n",
    "from tqdm.notebook import tqdm\n",
    "from sklearn.metrics import classification_report, f1_score\n",
    "from datasets import Dataset"
   ],
   "id": "85fe4fd661bbea86",
   "outputs": [],
   "execution_count": 1
  },
  {
   "metadata": {
    "ExecuteTime": {
     "end_time": "2025-10-16T18:23:43.825826Z",
     "start_time": "2025-10-16T18:23:43.822831Z"
    }
   },
   "cell_type": "code",
   "source": "logging.set_verbosity_error()",
   "id": "83e2cd9f4fd021b5",
   "outputs": [],
   "execution_count": 2
  },
  {
   "metadata": {
    "ExecuteTime": {
     "end_time": "2025-10-16T18:23:43.938230Z",
     "start_time": "2025-10-16T18:23:43.833840Z"
    }
   },
   "cell_type": "code",
   "source": [
    "train_df = pd.read_csv(\"data/preprocessed/clean_train.csv\", sep=\";\")\n",
    "test_df = pd.read_csv(\"data/preprocessed/clean_test.csv\", sep=\";\")\n",
    "\n",
    "train_dataset = Dataset.from_pandas(train_df)\n",
    "test_dataset = Dataset.from_pandas(test_df)"
   ],
   "id": "9ffc8d0f0681c0d3",
   "outputs": [],
   "execution_count": 3
  },
  {
   "metadata": {
    "ExecuteTime": {
     "end_time": "2025-10-16T18:23:46.305697Z",
     "start_time": "2025-10-16T18:23:43.942243Z"
    }
   },
   "cell_type": "code",
   "source": [
    "MODEL_NAME = \"roberta-base\"\n",
    "tokenizer = AutoTokenizer.from_pretrained(MODEL_NAME)\n",
    "\n",
    "\n",
    "def tokenize_function(example):\n",
    "    return tokenizer(\n",
    "        example[\"message\"],\n",
    "        padding=\"max_length\",\n",
    "        truncation=True,\n",
    "        max_length=128\n",
    "    )\n",
    "\n",
    "\n",
    "train_enc = train_dataset.map(tokenize_function, batched=True)\n",
    "test_enc = test_dataset.map(tokenize_function, batched=True)\n",
    "\n",
    "train_enc.set_format(\"torch\", columns=[\"input_ids\", \"attention_mask\", \"is_toxic\"])\n",
    "test_enc.set_format(\"torch\", columns=[\"input_ids\", \"attention_mask\", \"is_toxic\"])\n"
   ],
   "id": "c3f67d7fa4a61a1d",
   "outputs": [
    {
     "data": {
      "text/plain": [
       "Map:   0%|          | 0/12711 [00:00<?, ? examples/s]"
      ],
      "application/vnd.jupyter.widget-view+json": {
       "version_major": 2,
       "version_minor": 0,
       "model_id": "72a30174ab2a42f6822c5c969e38d5ff"
      }
     },
     "metadata": {},
     "output_type": "display_data",
     "jetTransient": {
      "display_id": null
     }
    },
    {
     "data": {
      "text/plain": [
       "Map:   0%|          | 0/228 [00:00<?, ? examples/s]"
      ],
      "application/vnd.jupyter.widget-view+json": {
       "version_major": 2,
       "version_minor": 0,
       "model_id": "ef331ca27a194498b0ab0183974aeee6"
      }
     },
     "metadata": {},
     "output_type": "display_data",
     "jetTransient": {
      "display_id": null
     }
    }
   ],
   "execution_count": 4
  },
  {
   "metadata": {
    "ExecuteTime": {
     "end_time": "2025-10-16T18:23:47.425631Z",
     "start_time": "2025-10-16T18:23:46.310713Z"
    }
   },
   "cell_type": "code",
   "source": [
    "model = AutoModelForSequenceClassification.from_pretrained(MODEL_NAME, num_labels=2)\n",
    "device = torch.device(\"cuda\" if torch.cuda.is_available() else \"cpu\")\n",
    "print(\"Используем устройство:\", device)\n",
    "# Перенос модели на GPU\n",
    "model.to(device)\n",
    "\n",
    "print(\"Модель на устройстве:\", next(model.parameters()).device)"
   ],
   "id": "6330333ed1d1baad",
   "outputs": [
    {
     "name": "stdout",
     "output_type": "stream",
     "text": [
      "Используем устройство: cuda\n",
      "Модель на устройстве: cuda:0\n"
     ]
    }
   ],
   "execution_count": 5
  },
  {
   "metadata": {
    "ExecuteTime": {
     "end_time": "2025-10-16T18:23:47.432143Z",
     "start_time": "2025-10-16T18:23:47.428644Z"
    }
   },
   "cell_type": "code",
   "source": [
    "train_loader = DataLoader(train_enc, batch_size=8, shuffle=True)\n",
    "test_loader = DataLoader(test_enc, batch_size=8)\n",
    "\n",
    "optimizer = AdamW(model.parameters(), lr=1e-5)\n",
    "loss_fn = torch.nn.CrossEntropyLoss()"
   ],
   "id": "2a9e606651f10889",
   "outputs": [],
   "execution_count": 6
  },
  {
   "metadata": {
    "ExecuteTime": {
     "end_time": "2025-10-16T18:23:47.519154Z",
     "start_time": "2025-10-16T18:23:47.447157Z"
    }
   },
   "cell_type": "code",
   "source": [
    "import shutil\n",
    "shutil.rmtree(\"models/roberta-toxic\", ignore_errors=True)"
   ],
   "id": "fd60a7ff925bb582",
   "outputs": [],
   "execution_count": 7
  },
  {
   "metadata": {
    "ExecuteTime": {
     "end_time": "2025-10-16T18:33:24.924878Z",
     "start_time": "2025-10-16T18:23:47.523168Z"
    }
   },
   "cell_type": "code",
   "source": [
    "epochs = 3\n",
    "model.train()\n",
    "for epoch in range(epochs):\n",
    "    total_loss = 0\n",
    "    loop = tqdm(train_loader, desc=f\"Epoch {epoch + 1}\")\n",
    "    for batch in loop:\n",
    "        optimizer.zero_grad()\n",
    "        inputs = {k: v.to(device) for k, v in batch.items() if k != \"is_toxic\"}\n",
    "        labels = batch[\"is_toxic\"].to(device)\n",
    "\n",
    "        outputs = model(**inputs)\n",
    "        loss = loss_fn(outputs.logits, labels)\n",
    "        loss.backward()\n",
    "        optimizer.step()\n",
    "\n",
    "        total_loss += loss.item()\n",
    "        loop.set_postfix(loss=loss.item())\n",
    "\n",
    "    avg_loss = total_loss / len(train_loader)\n",
    "    print(f\"Средняя потеря за эпоху {epoch + 1}: {avg_loss:.4f}\")\n",
    "\n",
    "model.save_pretrained(\"models/roberta-toxic\")\n",
    "tokenizer.save_pretrained(\"models/roberta-toxic\")\n",
    "print(\"\\nМодель и токенизатор сохранены в 'models/roberta-toxic'\")"
   ],
   "id": "5faf9f5af8d86be3",
   "outputs": [
    {
     "data": {
      "text/plain": [
       "Epoch 1:   0%|          | 0/1589 [00:00<?, ?it/s]"
      ],
      "application/vnd.jupyter.widget-view+json": {
       "version_major": 2,
       "version_minor": 0,
       "model_id": "f5061b4d87d74dfc9f1dee644dec26c0"
      }
     },
     "metadata": {},
     "output_type": "display_data",
     "jetTransient": {
      "display_id": null
     }
    },
    {
     "name": "stdout",
     "output_type": "stream",
     "text": [
      "Средняя потеря за эпоху 1: 0.2822\n"
     ]
    },
    {
     "data": {
      "text/plain": [
       "Epoch 2:   0%|          | 0/1589 [00:00<?, ?it/s]"
      ],
      "application/vnd.jupyter.widget-view+json": {
       "version_major": 2,
       "version_minor": 0,
       "model_id": "b80b61a9e0c1498489686e74ac1ecaa5"
      }
     },
     "metadata": {},
     "output_type": "display_data",
     "jetTransient": {
      "display_id": null
     }
    },
    {
     "name": "stdout",
     "output_type": "stream",
     "text": [
      "Средняя потеря за эпоху 2: 0.1856\n"
     ]
    },
    {
     "data": {
      "text/plain": [
       "Epoch 3:   0%|          | 0/1589 [00:00<?, ?it/s]"
      ],
      "application/vnd.jupyter.widget-view+json": {
       "version_major": 2,
       "version_minor": 0,
       "model_id": "dcba2ed27dc64f40a1feb38920e00912"
      }
     },
     "metadata": {},
     "output_type": "display_data",
     "jetTransient": {
      "display_id": null
     }
    },
    {
     "name": "stdout",
     "output_type": "stream",
     "text": [
      "Средняя потеря за эпоху 3: 0.1681\n"
     ]
    },
    {
     "data": {
      "text/plain": [
       "Epoch 4:   0%|          | 0/1589 [00:00<?, ?it/s]"
      ],
      "application/vnd.jupyter.widget-view+json": {
       "version_major": 2,
       "version_minor": 0,
       "model_id": "b10639edfe20470eaa3678953b62806b"
      }
     },
     "metadata": {},
     "output_type": "display_data",
     "jetTransient": {
      "display_id": null
     }
    },
    {
     "name": "stdout",
     "output_type": "stream",
     "text": [
      "Средняя потеря за эпоху 4: 0.2428\n"
     ]
    },
    {
     "data": {
      "text/plain": [
       "Epoch 5:   0%|          | 0/1589 [00:00<?, ?it/s]"
      ],
      "application/vnd.jupyter.widget-view+json": {
       "version_major": 2,
       "version_minor": 0,
       "model_id": "45b32f1584c340b792590d71482bd55b"
      }
     },
     "metadata": {},
     "output_type": "display_data",
     "jetTransient": {
      "display_id": null
     }
    },
    {
     "name": "stdout",
     "output_type": "stream",
     "text": [
      "Средняя потеря за эпоху 5: 0.2367\n"
     ]
    },
    {
     "data": {
      "text/plain": [
       "Epoch 6:   0%|          | 0/1589 [00:00<?, ?it/s]"
      ],
      "application/vnd.jupyter.widget-view+json": {
       "version_major": 2,
       "version_minor": 0,
       "model_id": "d844d7717a6e495f81ba477a3696b75d"
      }
     },
     "metadata": {},
     "output_type": "display_data",
     "jetTransient": {
      "display_id": null
     }
    },
    {
     "name": "stdout",
     "output_type": "stream",
     "text": [
      "Средняя потеря за эпоху 6: 0.1590\n",
      "\n",
      "Модель и токенизатор сохранены в 'models/roberta-toxic'\n"
     ]
    }
   ],
   "execution_count": 8
  },
  {
   "metadata": {
    "ExecuteTime": {
     "end_time": "2025-10-16T18:33:24.979819Z",
     "start_time": "2025-10-16T18:33:24.938206Z"
    }
   },
   "cell_type": "code",
   "source": [
    "m = AutoModelForSequenceClassification.from_pretrained(\"models/roberta-toxic\")\n",
    "print(\"Тип модели:\", type(m))\n",
    "print(\"Параметры классификатора:\", m.classifier)"
   ],
   "id": "cadabb1b4c9649a6",
   "outputs": [
    {
     "name": "stdout",
     "output_type": "stream",
     "text": [
      "Тип модели: <class 'transformers.models.roberta.modeling_roberta.RobertaForSequenceClassification'>\n",
      "Параметры классификатора: RobertaClassificationHead(\n",
      "  (dense): Linear(in_features=768, out_features=768, bias=True)\n",
      "  (dropout): Dropout(p=0.1, inplace=False)\n",
      "  (out_proj): Linear(in_features=768, out_features=2, bias=True)\n",
      ")\n"
     ]
    }
   ],
   "execution_count": 9
  },
  {
   "metadata": {
    "ExecuteTime": {
     "end_time": "2025-10-16T18:33:58.193759Z",
     "start_time": "2025-10-16T18:33:57.157729Z"
    }
   },
   "cell_type": "code",
   "source": [
    "model = AutoModelForSequenceClassification.from_pretrained(\"models/roberta-toxic\")\n",
    "tokenizer = AutoTokenizer.from_pretrained(\"models/roberta-toxic\")\n",
    "model.to(device)\n",
    "\n",
    "model.eval()\n",
    "preds, labels = [], []\n",
    "\n",
    "with torch.no_grad():\n",
    "    for batch in tqdm(test_loader, desc=\"Оценка\"):\n",
    "        inputs = {k: v.to(device) for k, v in batch.items() if k != \"is_toxic\"}\n",
    "        y_true = batch[\"is_toxic\"].to(device)\n",
    "\n",
    "        outputs = model(**inputs)\n",
    "        y_pred = torch.argmax(outputs.logits, dim=1)\n",
    "\n",
    "        preds.extend(y_pred.cpu().numpy())\n",
    "        labels.extend(y_true.cpu().numpy())"
   ],
   "id": "1990ae1438f011e",
   "outputs": [
    {
     "data": {
      "text/plain": [
       "Оценка:   0%|          | 0/29 [00:00<?, ?it/s]"
      ],
      "application/vnd.jupyter.widget-view+json": {
       "version_major": 2,
       "version_minor": 0,
       "model_id": "9f673e340c1042e8b7c4900b5c0056c6"
      }
     },
     "metadata": {},
     "output_type": "display_data",
     "jetTransient": {
      "display_id": null
     }
    }
   ],
   "execution_count": 13
  },
  {
   "metadata": {
    "ExecuteTime": {
     "end_time": "2025-10-16T18:33:59.645247Z",
     "start_time": "2025-10-16T18:33:59.629675Z"
    }
   },
   "cell_type": "code",
   "source": [
    "print(\"\\n=== Отчёт по метрикам ===\")\n",
    "print(classification_report(labels, preds, digits=2))"
   ],
   "id": "2a68f58201e09ff8",
   "outputs": [
    {
     "name": "stdout",
     "output_type": "stream",
     "text": [
      "\n",
      "=== Отчёт по метрикам ===\n",
      "              precision    recall  f1-score   support\n",
      "\n",
      "           0       0.96      0.90      0.93       119\n",
      "           1       0.90      0.95      0.92       109\n",
      "\n",
      "    accuracy                           0.93       228\n",
      "   macro avg       0.93      0.93      0.93       228\n",
      "weighted avg       0.93      0.93      0.93       228\n",
      "\n"
     ]
    }
   ],
   "execution_count": 14
  },
  {
   "metadata": {
    "ExecuteTime": {
     "end_time": "2025-10-16T18:34:02.106428Z",
     "start_time": "2025-10-16T18:34:02.101707Z"
    }
   },
   "cell_type": "code",
   "source": "print(\"F1-score:\", round(f1_score(labels, preds), 2))",
   "id": "8ac91414825a6d8c",
   "outputs": [
    {
     "name": "stdout",
     "output_type": "stream",
     "text": [
      "F1-score: 0.92\n"
     ]
    }
   ],
   "execution_count": 15
  }
 ],
 "metadata": {
  "kernelspec": {
   "display_name": "Python 3",
   "language": "python",
   "name": "python3"
  },
  "language_info": {
   "codemirror_mode": {
    "name": "ipython",
    "version": 2
   },
   "file_extension": ".py",
   "mimetype": "text/x-python",
   "name": "python",
   "nbconvert_exporter": "python",
   "pygments_lexer": "ipython2",
   "version": "2.7.6"
  }
 },
 "nbformat": 4,
 "nbformat_minor": 5
}
