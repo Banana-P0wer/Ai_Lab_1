{
 "cells": [
  {
   "metadata": {
    "ExecuteTime": {
     "end_time": "2025-10-19T12:35:01.336832Z",
     "start_time": "2025-10-19T12:35:01.333954Z"
    }
   },
   "cell_type": "code",
   "source": [
    "import os\n",
    "import pandas as pd\n",
    "import numpy as np\n",
    "import torch\n",
    "from torch.utils.data import DataLoader\n",
    "from torch.optim import AdamW\n",
    "from transformers import AutoTokenizer, AutoModelForSequenceClassification, logging\n",
    "from tqdm.notebook import tqdm\n",
    "from sklearn.metrics import classification_report, f1_score, confusion_matrix, ConfusionMatrixDisplay\n",
    "from datasets import Dataset\n",
    "import shutil\n",
    "import matplotlib.pyplot as plt"
   ],
   "id": "522b78ec1abe0d85",
   "outputs": [],
   "execution_count": 13
  },
  {
   "metadata": {
    "ExecuteTime": {
     "end_time": "2025-10-19T12:35:01.460778Z",
     "start_time": "2025-10-19T12:35:01.348846Z"
    }
   },
   "cell_type": "code",
   "source": "logging.set_verbosity_error()",
   "id": "42e0c514472ba13",
   "outputs": [],
   "execution_count": 14
  },
  {
   "metadata": {
    "ExecuteTime": {
     "end_time": "2025-10-19T12:35:02.148650Z",
     "start_time": "2025-10-19T12:35:01.464793Z"
    }
   },
   "cell_type": "code",
   "source": [
    "MODEL_DIR = \"models/roberta-toxic\"\n",
    "MODEL_NAME = \"roberta-base\"\n",
    "\n",
    "train_df = pd.read_csv(\"data/preprocessed/clean_train.csv\", sep=\";\")\n",
    "test_df = pd.read_csv(\"data/preprocessed/clean_test.csv\", sep=\";\")\n",
    "train_dataset = Dataset.from_pandas(train_df)\n",
    "test_dataset = Dataset.from_pandas(test_df)"
   ],
   "id": "b45591d73188614d",
   "outputs": [],
   "execution_count": 15
  },
  {
   "metadata": {},
   "cell_type": "code",
   "outputs": [],
   "execution_count": null,
   "source": [
    "BATCH_SIZE = 8\n",
    "EPOCHS = 3\n",
    "LR = 1e-5"
   ],
   "id": "213bfd81c3027b49"
  },
  {
   "metadata": {
    "ExecuteTime": {
     "end_time": "2025-10-19T12:35:02.154003Z",
     "start_time": "2025-10-19T12:35:02.151665Z"
    }
   },
   "cell_type": "code",
   "source": [
    "tokenizer = AutoTokenizer.from_pretrained(MODEL_NAME)\n",
    "\n",
    "def tokenize_function(example):\n",
    "    return tokenizer(example[\"message\"], padding=\"max_length\", truncation=True, max_length=128)\n",
    "train_enc = train_dataset.map(tokenize_function, batched=True)\n",
    "test_enc = test_dataset.map(tokenize_function, batched=True)\n",
    "train_enc.set_format(\"torch\", columns=[\"input_ids\", \"attention_mask\", \"is_toxic\"])\n",
    "test_enc.set_format(\"torch\", columns=[\"input_ids\", \"attention_mask\", \"is_toxic\"])"
   ],
   "id": "80c09d7b30f9b28e",
   "outputs": [],
   "execution_count": 16
  },
  {
   "metadata": {
    "ExecuteTime": {
     "end_time": "2025-10-19T12:35:02.916910Z",
     "start_time": "2025-10-19T12:35:02.914888Z"
    }
   },
   "cell_type": "code",
   "source": [
    "device = torch.device(\"cuda\" if torch.cuda.is_available() else \"cpu\")\n",
    "print(\"Используем устройство:\", device)"
   ],
   "id": "ae9cb47ce9414bdf",
   "outputs": [
    {
     "name": "stdout",
     "output_type": "stream",
     "text": [
      "Используем устройство: cuda\n"
     ]
    }
   ],
   "execution_count": 18
  },
  {
   "cell_type": "code",
   "id": "initial_id",
   "metadata": {
    "collapsed": true,
    "ExecuteTime": {
     "end_time": "2025-10-19T12:35:03.193074Z",
     "start_time": "2025-10-19T12:35:02.919925Z"
    }
   },
   "source": [
    "if os.path.exists(MODEL_DIR):\n",
    "    print(\"Найдена сохранённая модель, загружаем...\")\n",
    "    model = AutoModelForSequenceClassification.from_pretrained(MODEL_DIR)\n",
    "    tokenizer = AutoTokenizer.from_pretrained(MODEL_DIR)\n",
    "else:\n",
    "    print(\"Сохранённая модель не найдена, создаём новую и обучаем...\")\n",
    "    model = AutoModelForSequenceClassification.from_pretrained(MODEL_NAME, num_labels=2)\n",
    "    model.to(device)\n",
    "    train_loader = DataLoader(train_enc, batch_size=BATCH_SIZE, shuffle=True)\n",
    "    optimizer = AdamW(model.parameters(), lr=LR)\n",
    "    loss_fn = torch.nn.CrossEntropyLoss()\n",
    "    shutil.rmtree(MODEL_DIR, ignore_errors=True)\n",
    "    model.train()\n",
    "    for epoch in range(EPOCHS):\n",
    "        total_loss = 0\n",
    "        loop = tqdm(train_loader, desc=f\"Epoch {epoch + 1}\")\n",
    "        for batch in loop:\n",
    "            optimizer.zero_grad()\n",
    "            inputs = {k: v.to(device) for k, v in batch.items() if k != \"is_toxic\"}\n",
    "            labels = batch[\"is_toxic\"].to(device)\n",
    "            outputs = model(**inputs)\n",
    "            loss = loss_fn(outputs.logits, labels)\n",
    "            loss.backward()\n",
    "            optimizer.step()\n",
    "            total_loss += loss.item()\n",
    "            loop.set_postfix(loss=loss.item())\n",
    "        print(f\"Средняя потеря за эпоху {epoch + 1}: {total_loss / len(train_loader):.4f}\")\n",
    "    model.save_pretrained(MODEL_DIR)\n",
    "    tokenizer.save_pretrained(MODEL_DIR)\n",
    "    print(\"\\nМодель и токенизатор сохранены в\", MODEL_DIR)\n"
   ],
   "outputs": [
    {
     "name": "stdout",
     "output_type": "stream",
     "text": [
      "Найдена сохранённая модель, загружаем...\n"
     ]
    }
   ],
   "execution_count": 19
  },
  {
   "metadata": {
    "ExecuteTime": {
     "end_time": "2025-10-19T12:35:04.156194Z",
     "start_time": "2025-10-19T12:35:03.197088Z"
    }
   },
   "cell_type": "code",
   "source": [
    "model.to(device)\n",
    "model.eval()\n",
    "test_loader = DataLoader(test_enc, batch_size=BATCH_SIZE)\n",
    "preds, labels = [], []\n",
    "with torch.no_grad():\n",
    "    for batch in tqdm(test_loader, desc=\"Оценка\"):\n",
    "        inputs = {k: v.to(device) for k, v in batch.items() if k != \"is_toxic\"}\n",
    "        y_true = batch[\"is_toxic\"].to(device)\n",
    "        outputs = model(**inputs)\n",
    "        y_pred = torch.argmax(outputs.logits, dim=1)\n",
    "        preds.extend(y_pred.cpu().numpy())\n",
    "        labels.extend(y_true.cpu().numpy())"
   ],
   "id": "96f2e6f1b5a37550",
   "outputs": [
    {
     "data": {
      "text/plain": [
       "Оценка:   0%|          | 0/29 [00:00<?, ?it/s]"
      ],
      "application/vnd.jupyter.widget-view+json": {
       "version_major": 2,
       "version_minor": 0,
       "model_id": "8dbd1703d23e4681bb7ab95ace7b242f"
      }
     },
     "metadata": {},
     "output_type": "display_data",
     "jetTransient": {
      "display_id": null
     }
    }
   ],
   "execution_count": 20
  },
  {
   "metadata": {
    "ExecuteTime": {
     "end_time": "2025-10-19T12:35:04.218032Z",
     "start_time": "2025-10-19T12:35:04.160209Z"
    }
   },
   "cell_type": "code",
   "source": [
    "print(classification_report(labels, preds, digits=3))\n",
    "print(\"F1-score:\", round(f1_score(labels, preds), 3))\n",
    "cm = confusion_matrix(labels, preds)\n",
    "ConfusionMatrixDisplay(cm, display_labels=[\"not toxic\", \"toxic\"]).plot(cmap=\"Blues\")\n",
    "plt.title(\"Confusion Matrix\")\n",
    "plt.show()"
   ],
   "id": "3e6b7a690f5ed2e9",
   "outputs": [
    {
     "name": "stdout",
     "output_type": "stream",
     "text": [
      "              precision    recall  f1-score   support\n",
      "\n",
      "           0      0.955     0.899     0.926       119\n",
      "           1      0.897     0.954     0.924       109\n",
      "\n",
      "    accuracy                          0.925       228\n",
      "   macro avg      0.926     0.927     0.925       228\n",
      "weighted avg      0.927     0.925     0.925       228\n",
      "\n",
      "F1-score: 0.924\n"
     ]
    },
    {
     "data": {
      "text/plain": [
       "<Figure size 640x480 with 2 Axes>"
      ],
      "image/png": "[encoded data removed]"
     },
     "metadata": {},
     "output_type": "display_data",
     "jetTransient": {
      "display_id": null
     }
    }
   ],
   "execution_count": 21
  },
  {
   "metadata": {
    "ExecuteTime": {
     "end_time": "2025-10-19T12:35:04.295791Z",
     "start_time": "2025-10-19T12:35:04.228046Z"
    }
   },
   "cell_type": "code",
   "source": [
    "classifier_weights = model.classifier.state_dict()[\"out_proj.weight\"].detach().cpu().numpy()\n",
    "classifier_bias = model.classifier.state_dict()[\"out_proj.bias\"].detach().cpu().numpy()\n",
    "top_toxic_idx = np.argsort(classifier_weights[1])[-15:][::-1]\n",
    "top_nontoxic_idx = np.argsort(classifier_weights[1])[:15]\n",
    "vocab = list(tokenizer.get_vocab().keys())"
   ],
   "id": "60ad9d2dc9a235f7",
   "outputs": [],
   "execution_count": 22
  },
  {
   "metadata": {
    "ExecuteTime": {
     "end_time": "2025-10-19T12:35:04.371686Z",
     "start_time": "2025-10-19T12:35:04.298805Z"
    }
   },
   "cell_type": "code",
   "source": [
    "print(\"Топ токсичных токенов:\")\n",
    "for idx in top_toxic_idx:\n",
    "    print(f\"{vocab[idx]:<20} {classifier_weights[1][idx]:.3f}\")"
   ],
   "id": "226ed3974f0a55b4",
   "outputs": [
    {
     "name": "stdout",
     "output_type": "stream",
     "text": [
      "\n",
      "Топ токсичных токенов:\n",
      "Ġsperm               0.049\n",
      "Ġjohn                0.046\n",
      "Ġcollaborator        0.041\n",
      "Ġconsolation         0.041\n",
      "Ġprediction          0.041\n",
      "atical               0.040\n",
      "UTION                0.039\n",
      "Ġlob                 0.039\n",
      "ĠPolaris             0.039\n",
      "ĠCork                0.038\n",
      "ĠHO                  0.037\n",
      "Ġdepicted            0.037\n",
      "ĠHanson              0.036\n",
      "Ġentropy             0.035\n",
      "ĠLisbon              0.033\n"
     ]
    }
   ],
   "execution_count": 23
  },
  {
   "metadata": {
    "ExecuteTime": {
     "end_time": "2025-10-19T12:35:04.522193Z",
     "start_time": "2025-10-19T12:35:04.382700Z"
    }
   },
   "cell_type": "code",
   "source": [
    "print(\"Топ нетоксичных токенов:\")\n",
    "for idx in top_nontoxic_idx:\n",
    "    print(f\"{vocab[idx]:<20} {classifier_weights[1][idx]:.3f}\")"
   ],
   "id": "1f87e3aa6baaa3db",
   "outputs": [
    {
     "name": "stdout",
     "output_type": "stream",
     "text": [
      "\n",
      "Топ нетоксичных токенов:\n",
      "acus                 -0.050\n",
      "ĠMarvel              -0.046\n",
      "Ġvulgar              -0.044\n",
      "Ġdefiant             -0.042\n",
      "Ġsystem              -0.042\n",
      "Ent                  -0.042\n",
      "û                    -0.042\n",
      "Ġphotographed        -0.041\n",
      "Ġlocal               -0.041\n",
      "514                  -0.040\n",
      "Seven                -0.040\n",
      "Ġ00000000            -0.040\n",
      "Ġdespair             -0.039\n",
      "Ġinstitution         -0.037\n",
      "ĠSa                  -0.037\n"
     ]
    }
   ],
   "execution_count": 24
  }
 ],
 "metadata": {
  "kernelspec": {
   "display_name": "Python 3",
   "language": "python",
   "name": "python3"
  },
  "language_info": {
   "codemirror_mode": {
    "name": "ipython",
    "version": 2
   },
   "file_extension": ".py",
   "mimetype": "text/x-python",
   "name": "python",
   "nbconvert_exporter": "python",
   "pygments_lexer": "ipython2",
   "version": "2.7.6"
  }
 },
 "nbformat": 4,
 "nbformat_minor": 5
}
